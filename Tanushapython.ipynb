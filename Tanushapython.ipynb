{
 "cells": [
  {
   "cell_type": "code",
   "execution_count": 14,
   "id": "beb73c1f-561f-4eac-a670-e3bf712bc3d8",
   "metadata": {},
   "outputs": [
    {
     "name": "stdin",
     "output_type": "stream",
     "text": [
      "Enter your First Name tanusha\n",
      "Enter your Last Name sharma\n"
     ]
    },
    {
     "name": "stdout",
     "output_type": "stream",
     "text": [
      "Sharma Tanusha\n"
     ]
    }
   ],
   "source": [
    "#taking inputs from user as first and last name\n",
    "first_name = (input(\"Enter your First Name\"))\n",
    "last_name = (input(\"Enter your Last Name\"))\n",
    "'''\n",
    "using string methods\n",
    "capitalize()is used for capitalizing the first letter of string\n",
    "strip() is used for removing the trial spaces\n",
    "'''\n",
    "first_name = first_name.capitalize()\n",
    "last_name = last_name.capitalize()\n",
    "print(last_name +\" \"+ first_name)\n"
   ]
  },
  {
   "cell_type": "code",
   "execution_count": 18,
   "id": "09beca74-ab53-433c-8cad-0b491909759e",
   "metadata": {},
   "outputs": [
    {
     "name": "stdin",
     "output_type": "stream",
     "text": [
      "Enter a number: 9632587.3256\n"
     ]
    },
    {
     "name": "stdout",
     "output_type": "stream",
     "text": [
      "Integer value:9632587\n",
      "Float value: 9632587.3256\n",
      "Complex value :(9632587.3256+0j)\n"
     ]
    }
   ],
   "source": [
    "#taking inputs from user\n",
    "user_input = input(\"Enter a number:\")\n",
    "\"\"\"\n",
    "converting the input to the different numeric data types\n",
    "int() converts the input to an integer\n",
    "\"\"\"\n",
    "int_value = int(float(user_input))\n",
    "#convert a float first to handle decimal part\n",
    "float_value = float(user_input)\n",
    "#complex() converts the input to a complex number\n",
    "complex_value = complex(user_input)\n",
    "#displaying the converted values\n",
    "print(f\"Integer value:{int_value}\")\n",
    "print(f\"Float value: {float_value}\")\n",
    "print(f\"Complex value :{complex_value}\")"
   ]
  },
  {
   "cell_type": "code",
   "execution_count": 35,
   "id": "cbf4da7c-a99f-4ecd-8a60-f938e4742b4b",
   "metadata": {},
   "outputs": [
    {
     "name": "stdin",
     "output_type": "stream",
     "text": [
      " Enter the length of rectangle:  25\n",
      " Enter the breadth of rectangle:  18\n"
     ]
    },
    {
     "name": "stdout",
     "output_type": "stream",
     "text": [
      "the area of rectangle is :450\n"
     ]
    }
   ],
   "source": [
    "#taking inputs from user\n",
    "length=  int(input(\" Enter the length of rectangle: \"))\n",
    "breadth=  int(input(\" Enter the breadth of rectangle: \"))\n",
    "# calculating the area of rectangle\n",
    "area = length * breadth\n",
    "print (f\"the area of rectangle is :{area}\")\n"
   ]
  },
  {
   "cell_type": "code",
   "execution_count": 37,
   "id": "ea1b54fb-6976-44f3-9eff-6e953985d2b7",
   "metadata": {},
   "outputs": [
    {
     "name": "stdin",
     "output_type": "stream",
     "text": [
      "Enter the length of the rectangle:  56\n",
      "Enter the width of the rectangle:  12\n"
     ]
    },
    {
     "name": "stdout",
     "output_type": "stream",
     "text": [
      "The area of the rectangle is: 672.00 square units\n"
     ]
    }
   ],
   "source": [
    "# Prompt the user to enter the length and width of the rectangle\n",
    "length = int(input(\"Enter the length of the rectangle: \"))\n",
    "width = int(input(\"Enter the width of the rectangle: \"))\n",
    "\n",
    "# Calculate the area of the rectangle\n",
    "area = length * width\n",
    "\n",
    "# Display the result using the format method to show two decimal places\n",
    "print(\"The area of the rectangle is: {:.2f} square units\".format(area))\n"
   ]
  },
  {
   "cell_type": "code",
   "execution_count": 38,
   "id": "2186a0fd-b127-46bb-a307-cea2b06cd3e3",
   "metadata": {},
   "outputs": [
    {
     "name": "stdin",
     "output_type": "stream",
     "text": [
      "enter the number 25\n",
      "enter the number 25\n",
      "enter the number 36\n"
     ]
    },
    {
     "name": "stdout",
     "output_type": "stream",
     "text": [
      "the average of three numbers are: 62.0\n"
     ]
    }
   ],
   "source": [
    "#taking inputs from user\n",
    "num1= int (input(\"enter the number\"))\n",
    "num2 = int (input(\"enter the number\"))\n",
    "num3 = int(input(\"enter the number\"))\n",
    "#taking average of the number\n",
    "average= num1+num2+num3/3\n",
    "print(\"the average of three numbers are:\", average)"
   ]
  },
  {
   "cell_type": "code",
   "execution_count": 56,
   "id": "4dd96385-e03d-4cdc-9b3d-002d2683b83c",
   "metadata": {},
   "outputs": [
    {
     "name": "stdin",
     "output_type": "stream",
     "text": [
      "Enter a number (or type 'exit' to quit):  25\n"
     ]
    },
    {
     "name": "stdout",
     "output_type": "stream",
     "text": [
      "The number is positive.\n"
     ]
    },
    {
     "name": "stdin",
     "output_type": "stream",
     "text": [
      "Enter a number (or type 'exit' to quit):  65\n"
     ]
    },
    {
     "name": "stdout",
     "output_type": "stream",
     "text": [
      "The number is positive.\n"
     ]
    },
    {
     "name": "stdin",
     "output_type": "stream",
     "text": [
      "Enter a number (or type 'exit' to quit):  _45\n"
     ]
    },
    {
     "name": "stdout",
     "output_type": "stream",
     "text": [
      "Please enter a valid number.\n"
     ]
    },
    {
     "name": "stdin",
     "output_type": "stream",
     "text": [
      "Enter a number (or type 'exit' to quit):  -96\n"
     ]
    },
    {
     "name": "stdout",
     "output_type": "stream",
     "text": [
      "The number is negative.\n"
     ]
    },
    {
     "name": "stdin",
     "output_type": "stream",
     "text": [
      "Enter a number (or type 'exit' to quit):  0\n"
     ]
    },
    {
     "name": "stdout",
     "output_type": "stream",
     "text": [
      "The number is zero.\n"
     ]
    },
    {
     "name": "stdin",
     "output_type": "stream",
     "text": [
      "Enter a number (or type 'exit' to quit):  exit\n"
     ]
    },
    {
     "name": "stdout",
     "output_type": "stream",
     "text": [
      "Exiting the program.\n"
     ]
    }
   ],
   "source": [
    "while True:\n",
    "    # Prompt the user for input\n",
    "    user_input = input(\"Enter a number (or type 'exit' to quit): \").lower()\n",
    "\n",
    "    # Check if the user wants to exit\n",
    "    if user_input == 'exit':\n",
    "        print(\"Exiting the program.\")\n",
    "        break  # Exit the loop if the input is 'exit'\n",
    "\n",
    "    try:\n",
    "        # Convert the input to a float for numeric comparison\n",
    "        number = float(user_input)\n",
    "\n",
    "        # Check if the number is positive, negative, or zero\n",
    "        if number > 0:\n",
    "            print(\"The number is positive.\")\n",
    "        elif number < 0:\n",
    "            print(\"The number is negative.\")\n",
    "        else:\n",
    "            print(\"The number is zero.\")\n",
    "    except ValueError:\n",
    "        # Handle cases where the input is not a valid number\n",
    "        print(\"Please enter a valid number.\")\n"
   ]
  },
  {
   "cell_type": "code",
   "execution_count": 59,
   "id": "8f4dda09-846f-46a7-a251-654d82044b1d",
   "metadata": {},
   "outputs": [
    {
     "name": "stdin",
     "output_type": "stream",
     "text": [
      "Enter the first number:  96\n",
      "Enter the second number:  36\n"
     ]
    },
    {
     "name": "stdout",
     "output_type": "stream",
     "text": [
      "Both numbers are even.\n"
     ]
    }
   ],
   "source": [
    "# Taking two numbers as input from the user\n",
    "num1 = int(input(\"Enter the first number: \"))\n",
    "num2 = int(input(\"Enter the second number: \"))\n",
    "\n",
    "# Checking whether both numbers are even\n",
    "if num1 % 2 == 0 and num2 % 2 == 0:\n",
    "    print(\"Both numbers are even.\")\n",
    "# Checking whether both numbers are odd\n",
    "elif num1 % 2 != 0 and num2 % 2 != 0:\n",
    "    print(\"Both numbers are odd.\")\n",
    "# If neither of the above conditions are true, one number is even and the other is odd\n",
    "else:\n",
    "    print(\"One number is even and the other is odd.\")\n"
   ]
  },
  {
   "cell_type": "code",
   "execution_count": 60,
   "id": "880f0a9f-297e-45ab-9f72-872fd501f2ed",
   "metadata": {},
   "outputs": [
    {
     "name": "stdin",
     "output_type": "stream",
     "text": [
      "Enter an integer:  65\n"
     ]
    },
    {
     "name": "stdout",
     "output_type": "stream",
     "text": [
      "Binary equivalent: 1000001\n",
      "Octal equivalent: 101\n",
      "Hexadecimal equivalent: 41\n"
     ]
    }
   ],
   "source": [
    "# Taking an integer input from the user\n",
    "num = int(input(\"Enter an integer: \"))\n",
    "\n",
    "# Dictionary to store the conversions\n",
    "conversions = {\"Binary\": bin(num), \"Octal\": oct(num), \"Hexadecimal\": hex(num)}\n",
    "\n",
    "# For loop to iterate over the dictionary and print results\n",
    "for base, value in conversions.items():\n",
    "    print(f\"{base} equivalent: {value[2:].upper()}\")  # Remove '0b', '0o', '0x' prefix and convert to uppercase for hex\n"
   ]
  },
  {
   "cell_type": "code",
   "execution_count": null,
   "id": "8a378c13-8b4f-47cc-b627-f0aecbe0261a",
   "metadata": {},
   "outputs": [],
   "source": []
  }
 ],
 "metadata": {
  "kernelspec": {
   "display_name": "Python 3 (ipykernel)",
   "language": "python",
   "name": "python3"
  },
  "language_info": {
   "codemirror_mode": {
    "name": "ipython",
    "version": 3
   },
   "file_extension": ".py",
   "mimetype": "text/x-python",
   "name": "python",
   "nbconvert_exporter": "python",
   "pygments_lexer": "ipython3",
   "version": "3.12.5"
  }
 },
 "nbformat": 4,
 "nbformat_minor": 5
}
